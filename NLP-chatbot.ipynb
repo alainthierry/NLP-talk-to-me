{
 "cells": [
  {
   "cell_type": "markdown",
   "id": "eight-insert",
   "metadata": {},
   "source": [
    "# <center> Introduction and Discovery of Natural Language Processing  </center>\n",
    "<center><strong> Application : Chatbot for answering patient’s simple questions</strong></center>"
   ]
  },
  {
   "cell_type": "markdown",
   "id": "tired-bedroom",
   "metadata": {},
   "source": [
    "## Part I\n",
    "#### Loading libraries, modules"
   ]
  },
  {
   "cell_type": "code",
   "execution_count": 1,
   "id": "geographic-stand",
   "metadata": {},
   "outputs": [
    {
     "data": {
      "text/plain": [
       "True"
      ]
     },
     "execution_count": 1,
     "metadata": {},
     "output_type": "execute_result"
    }
   ],
   "source": [
    "import numpy as np\n",
    "from keras.models import Sequential\n",
    "from keras.layers import Dense, Activation, Dropout\n",
    "from keras.optimizers import SGD\n",
    "import random\n",
    "import nltk\n",
    "from nltk.stem import WordNetLemmatizer\n",
    "lemmatizer = WordNetLemmatizer()\n",
    "import json\n",
    "import pickle\n",
    "import nltk\n",
    "import pandas as pd\n",
    "nltk.download('punkt', quiet = True)\n",
    "nltk.download('wordnet', quiet = True)"
   ]
  },
  {
   "cell_type": "code",
   "execution_count": 2,
   "id": "chubby-poetry",
   "metadata": {},
   "outputs": [],
   "source": [
    "intents = pd.read_json('intents_dataset.json')"
   ]
  },
  {
   "cell_type": "code",
   "execution_count": 4,
   "id": "acquired-answer",
   "metadata": {},
   "outputs": [
    {
     "data": {
      "text/html": [
       "<div>\n",
       "<style scoped>\n",
       "    .dataframe tbody tr th:only-of-type {\n",
       "        vertical-align: middle;\n",
       "    }\n",
       "\n",
       "    .dataframe tbody tr th {\n",
       "        vertical-align: top;\n",
       "    }\n",
       "\n",
       "    .dataframe thead th {\n",
       "        text-align: right;\n",
       "    }\n",
       "</style>\n",
       "<table border=\"1\" class=\"dataframe\">\n",
       "  <thead>\n",
       "    <tr style=\"text-align: right;\">\n",
       "      <th></th>\n",
       "      <th>intents</th>\n",
       "    </tr>\n",
       "  </thead>\n",
       "  <tbody>\n",
       "    <tr>\n",
       "      <th>0</th>\n",
       "      <td>{'tag': 'greeting', 'patterns': ['Hi there', '...</td>\n",
       "    </tr>\n",
       "    <tr>\n",
       "      <th>1</th>\n",
       "      <td>{'tag': 'goodbye', 'patterns': ['Bye', 'See yo...</td>\n",
       "    </tr>\n",
       "    <tr>\n",
       "      <th>2</th>\n",
       "      <td>{'tag': 'thanks', 'patterns': ['Thanks', 'Than...</td>\n",
       "    </tr>\n",
       "    <tr>\n",
       "      <th>3</th>\n",
       "      <td>{'tag': 'noanswer', 'patterns': ['', '??'], 'r...</td>\n",
       "    </tr>\n",
       "    <tr>\n",
       "      <th>4</th>\n",
       "      <td>{'tag': 'options', 'patterns': ['How you could...</td>\n",
       "    </tr>\n",
       "  </tbody>\n",
       "</table>\n",
       "</div>"
      ],
      "text/plain": [
       "                                             intents\n",
       "0  {'tag': 'greeting', 'patterns': ['Hi there', '...\n",
       "1  {'tag': 'goodbye', 'patterns': ['Bye', 'See yo...\n",
       "2  {'tag': 'thanks', 'patterns': ['Thanks', 'Than...\n",
       "3  {'tag': 'noanswer', 'patterns': ['', '??'], 'r...\n",
       "4  {'tag': 'options', 'patterns': ['How you could..."
      ]
     },
     "execution_count": 4,
     "metadata": {},
     "output_type": "execute_result"
    }
   ],
   "source": [
    "intents.head()"
   ]
  },
  {
   "cell_type": "markdown",
   "id": "certified-freeze",
   "metadata": {},
   "source": [
    "## Part II : Data Processing"
   ]
  },
  {
   "cell_type": "code",
   "execution_count": 5,
   "id": "passive-paintball",
   "metadata": {},
   "outputs": [],
   "source": [
    "words=[]\n",
    "classes = []\n",
    "documents = []\n",
    "ignore_letters = ['!', '?', ',', '.']\n",
    "\n",
    "for intent in intents['intents']:\n",
    "    for pattern in intent['patterns']:\n",
    "        \n",
    "        word = nltk.word_tokenize(pattern) #tokenize each word\n",
    "        words.extend(word)\n",
    "        \n",
    "        documents.append((word, intent['tag'])) #add documents in the corpus\n",
    "        \n",
    "        if intent['tag'] not in classes:\n",
    "            classes.append(intent['tag']) # add to our classes list"
   ]
  },
  {
   "cell_type": "markdown",
   "id": "senior-transportation",
   "metadata": {},
   "source": [
    "#### Lemmaztize and lower each word and remove duplicates"
   ]
  },
  {
   "cell_type": "code",
   "execution_count": 6,
   "id": "gross-auditor",
   "metadata": {},
   "outputs": [
    {
     "name": "stdout",
     "output_type": "stream",
     "text": [
      "78 documents\n",
      "14 classes ['about', 'adverse_drug', 'blood_pressure', 'blood_pressure_search', 'goodbye', 'greeting', 'help', 'hospital_search', 'name', 'noanswer', 'options', 'pharmacy_search', 'search_pharmacy_by_name', 'thanks']\n",
      "118 unique lemmatized words [\"'s\", 'a', 'adverse', 'aid', 'all', 'anyone', 'are', 'awesome', 'be', 'behavior', 'blood', 'by', 'bye', 'call', 'can', 'causing', 'center', 'chatting', 'check', 'community', 'costco', 'could', 'creek', 'cv', 'data', 'day', 'detail', 'do', 'drug', 'entry', 'farmacia', 'find', 'for', 'give', 'good', 'goodbye', 'hand', 'have', 'health', 'hello', 'help', 'helpful', 'helping', 'hey', 'hi', 'history', 'hola', 'hospital', 'how', 'i', 'id', 'is', 'kaiser', 'later', 'list', 'load', 'locate', 'log', 'looking', 'lookup', 'management', 'me', 'medical', 'module', 'mowry', \"n't\", 'name', 'nearby', 'need', 'next', 'nice', 'of', 'offered', 'omnicare', 'open', 'patient', 'pharmacy', 'plaza', 'please', 'pressure', 'provide', 'reaction', 'related', 'remedios', 'result', 'rite', 'safeway', 'search', 'searching', 'see', 'should', 'show', 'suitable', 'support', 'target', 'task', 'thank', 'thanks', 'that', 'there', 'till', 'time', 'to', 'transfer', 'trinity', 'up', 'valley', 'wal-mart', 'walgreens', 'want', 'what', 'whats', 'which', 'who', 'willow', 'with', 'you', 'your']\n"
     ]
    }
   ],
   "source": [
    "words = [lemmatizer.lemmatize(w.lower()) for w in words if w not in ignore_letters]\n",
    "words = sorted(list(set(words)))\n",
    "\n",
    "classes = sorted(list(set(classes)))\n",
    "# documents = combination between patterns and intents\n",
    "\n",
    "print (len(documents), \"documents\")\n",
    "\n",
    "# classes = intents\n",
    "\n",
    "print (len(classes), \"classes\", classes)\n",
    "# words = all words, vocabulary\n",
    "\n",
    "print (len(words), \"unique lemmatized words\", words)\n",
    "\n",
    "pickle.dump(words,open('words.pkl','wb'))\n",
    "\n",
    "pickle.dump(classes,open('classes.pkl','wb'))"
   ]
  },
  {
   "cell_type": "markdown",
   "id": "flying-version",
   "metadata": {},
   "source": [
    "## Part III : Training and Testing Data"
   ]
  },
  {
   "cell_type": "code",
   "execution_count": null,
   "id": "hairy-bernard",
   "metadata": {},
   "outputs": [
    {
     "name": "stderr",
     "output_type": "stream",
     "text": [
      "<ipython-input-7-818e25a701b0>:26: VisibleDeprecationWarning: Creating an ndarray from ragged nested sequences (which is a list-or-tuple of lists-or-tuples-or ndarrays with different lengths or shapes) is deprecated. If you meant to do this, you must specify 'dtype=object' when creating the ndarray\n",
      "  training = np.array(trainings)\n"
     ]
    }
   ],
   "source": [
    "# create the training data\n",
    "training = list()\n",
    "trainings = []\n",
    "# create empty array for the output\n",
    "\n",
    "output_empty = [0] * len(classes)\n",
    "# training set, bag of words for every sentence\n",
    "for doc in documents:\n",
    "    # initializing bag of words\n",
    "    bag = []\n",
    "    # list of tokenized words for the pattern\n",
    "    word_patterns = doc[0]\n",
    "    \n",
    "    # lemmatize each word - create base word, in attempt to represent related words\n",
    "    word_patterns = [lemmatizer.lemmatize(word.lower()) for word in word_patterns]\n",
    "    \n",
    "    # create the bag of words array with 1, if word is found in current pattern\n",
    "    for word in words:\n",
    "        bag.append(1) if word in word_patterns else bag.append(0)\n",
    "        # output is a '0' for each tag and '1' for current tag (for each pattern)\n",
    "        output_row = list(output_empty)\n",
    "        output_row[classes.index(doc[1])] = 1\n",
    "        trainings.append([bag, output_row])\n",
    "        # shuffle the features and make numpy array\n",
    "        random.shuffle(trainings)\n",
    "        training = np.array(trainings)\n",
    "        # create training and testing lists. X - patterns, Y - intents\n",
    "        \n",
    "        train_x = list(training[:,0])\n",
    "        train_y = list(training[:,1])\n",
    "print(\"Training data is created\")"
   ]
  },
  {
   "cell_type": "code",
   "execution_count": null,
   "id": "southeast-flush",
   "metadata": {},
   "outputs": [],
   "source": [
    "import matplotlib.pyplot as plt\n",
    "plt.hist(train_x)\n",
    "plt.show()"
   ]
  },
  {
   "cell_type": "markdown",
   "id": "addressed-absence",
   "metadata": {},
   "source": [
    "## Part IV :  Training the Model"
   ]
  },
  {
   "cell_type": "code",
   "execution_count": null,
   "id": "united-canvas",
   "metadata": {},
   "outputs": [],
   "source": [
    "# deep neural networds model\n",
    "model = Sequential()\n",
    "model.add(Dense(128, input_shape=(len(train_x[0]),), activation='relu'))\n",
    "model.add(Dropout(0.5))\n",
    "model.add(Dense(64, activation='relu'))\n",
    "model.add(Dropout(0.5))\n",
    "model.add(Dense(len(train_y[0]), activation='softmax'))\n",
    "# Compiling model. SGD with Nesterov accelerated gradient gives good results for this model\n",
    "sgd = SGD(lr=0.01, decay=1e-6, momentum=0.9, nesterov=True)\n",
    "model.compile(loss='categorical_crossentropy', optimizer=sgd, metrics=['accuracy'])\n",
    "\n",
    "#Training and saving the model \n",
    "\n",
    "hist = model.fit(np.array(train_x), np.array(train_y), epochs=200, batch_size=5, verbose=1)\n",
    "model.save('chatbot_model.h5', hist)\n",
    "\n",
    "print(\"model is created\")"
   ]
  },
  {
   "cell_type": "markdown",
   "id": "thirty-formation",
   "metadata": {},
   "source": [
    "## Part V : Interacting With the Chatbot"
   ]
  },
  {
   "cell_type": "code",
   "execution_count": null,
   "id": "valid-efficiency",
   "metadata": {},
   "outputs": [],
   "source": [
    "import nltk\n",
    "from nltk.stem import WordNetLemmatizer\n",
    "lemmatizer = WordNetLemmatizer()\n",
    "import pickle\n",
    "import numpy as np\n",
    "from keras.models import load_model\n",
    "model = load_model('chatbot_model.h5')\n",
    "import json\n",
    "import random\n",
    "intents = json.loads(open('intents_dataset.json').read())\n",
    "words = pickle.load(open('words.pkl','rb'))\n",
    "classes = pickle.load(open('classes.pkl','rb'))"
   ]
  },
  {
   "cell_type": "markdown",
   "id": "spectacular-tribune",
   "metadata": {},
   "source": [
    "#### Clean up Sentence Function"
   ]
  },
  {
   "cell_type": "code",
   "execution_count": null,
   "id": "partial-peace",
   "metadata": {},
   "outputs": [],
   "source": [
    "def clean_up_sentence(sentence):\n",
    "    # tokenize the pattern - splitting words into array\n",
    "    sentence_words = nltk.word_tokenize(sentence)\n",
    "  \n",
    "    # stemming every word - reducing to base form\n",
    "\n",
    "    sentence_words = [lemmatizer.lemmatize(word.lower()) for word in sentence_words]\n",
    "    return sentence_words\n",
    "    #return bag of words array: 0 or 1 for words that exist in sentence"
   ]
  },
  {
   "cell_type": "markdown",
   "id": "needed-chocolate",
   "metadata": {},
   "source": [
    "#### Bag of Words Function"
   ]
  },
  {
   "cell_type": "code",
   "execution_count": null,
   "id": "operating-johnston",
   "metadata": {},
   "outputs": [],
   "source": [
    "def bag_of_words(sentence, words, show_details=True):\n",
    "    # tokenizing patterns\n",
    "    sentence_words = clean_up_sentence(sentence)\n",
    "    # bag of words - vocabulary matrix\n",
    "    bag = [0]*len(words)  \n",
    "    for s in sentence_words:\n",
    "        for i,word in enumerate(words):\n",
    "            if word == s:\n",
    "                # assign 1 if current word is in the vocabulary position\n",
    "                bag[i] = 1\n",
    "            if show_details:\n",
    "                print (\"found in bag: %s\" % word)\n",
    "    return(np.array(bag))"
   ]
  },
  {
   "cell_type": "markdown",
   "id": "incoming-petersburg",
   "metadata": {},
   "source": [
    "#### Prection function"
   ]
  },
  {
   "cell_type": "code",
   "execution_count": null,
   "id": "korean-chocolate",
   "metadata": {},
   "outputs": [],
   "source": [
    "def predict_class(sentence):\n",
    "    # filter below  threshold predictions\n",
    "    p = bag_of_words(sentence, words,show_details=False)\n",
    "\n",
    "    res = model.predict(np.array([p]))[0]\n",
    "    ERROR_THRESHOLD = 0.25\n",
    "\n",
    "    results = [[i,r] for i,r in enumerate(res) if r>ERROR_THRESHOLD]\n",
    "\n",
    "    # sorting strength probability\n",
    "\n",
    "    results.sort(key=lambda x: x[1], reverse=True)\n",
    "\n",
    "    return_list = []\n",
    "\n",
    "    for r in results:\n",
    "\n",
    "        return_list.append({\"intent\": classes[r[0]], \"probability\": str(r[1])})\n",
    "    return return_list"
   ]
  },
  {
   "cell_type": "markdown",
   "id": "technical-asthma",
   "metadata": {},
   "source": [
    "#### Getting responses function"
   ]
  },
  {
   "cell_type": "code",
   "execution_count": null,
   "id": "latter-invalid",
   "metadata": {},
   "outputs": [],
   "source": [
    "def getResponse(ints, intents_json):\n",
    "\n",
    "    tag = ints[0]['intent']\n",
    "\n",
    "    list_of_intents = intents_json['intents']\n",
    "\n",
    "    for i in list_of_intents:\n",
    "\n",
    "        if(i['tag']== tag):\n",
    "\n",
    "            result = random.choice(i['responses'])\n",
    "\n",
    "            break\n",
    "\n",
    "    return result"
   ]
  },
  {
   "cell_type": "markdown",
   "id": "encouraging-imaging",
   "metadata": {},
   "source": [
    "#### Launch Chat Function"
   ]
  },
  {
   "cell_type": "code",
   "execution_count": null,
   "id": "editorial-causing",
   "metadata": {},
   "outputs": [],
   "source": [
    "def chatting():\n",
    "    print(\"Welcome to Talk-To-Me : \\n\")\n",
    "    \n",
    "    while(True):\n",
    "        message = input()\n",
    "        if message == 'quit':\n",
    "            break\n",
    "        elif message != '':\n",
    "            ints = predict_class(message)\n",
    "            result = getResponse(ints, intents)\n",
    "            print(result)"
   ]
  },
  {
   "cell_type": "code",
   "execution_count": 34,
   "id": "professional-fight",
   "metadata": {},
   "outputs": [
    {
     "name": "stdout",
     "output_type": "stream",
     "text": [
      "Welcome to Talk-To-Me : \n",
      "\n",
      "Hello !\n",
      "Good to see you again\n",
      "God\n",
      "Not sure I understand\n",
      "no\n",
      "Sorry, can't understand you\n",
      "fuck you\n",
      "Any time!\n",
      "You're fedding me up\n",
      "I can guide you through Adverse drug reaction list, Blood pressure tracking, Hospitals and Pharmacies\n",
      "oh \n",
      "Sorry, can't understand you\n",
      "really\n",
      "Not sure I understand\n",
      "quit tt\n",
      "Please give me more info\n",
      "quit my home\n",
      "Sorry, can't understand you\n",
      "Sorry, can't understand you too\n",
      "Happy to help!\n",
      "quit\n"
     ]
    }
   ],
   "source": [
    "chatting()"
   ]
  },
  {
   "cell_type": "markdown",
   "id": "isolated-edgar",
   "metadata": {},
   "source": [
    "## Stop Word"
   ]
  },
  {
   "cell_type": "code",
   "execution_count": 54,
   "id": "italic-terror",
   "metadata": {},
   "outputs": [
    {
     "name": "stdout",
     "output_type": "stream",
     "text": [
      "\n",
      "\n",
      "Original Sentence \n",
      "\n",
      "\n",
      "at he determined to drop his litigation with the monastry , and relinguish his claims to the wood-cuting and fishery rihgts at once . he was the more ready to do this becuase the rights had become much less valuable , and he had indeed the vaguest idea where the wood and river in question were .\n",
      "\n",
      "\n",
      "Filtered Sentence \n",
      "\n",
      "\n",
      "determined drop litigation monastry , relinguish claims wood-cuting fishery rihgts . ready becuase rights become much less valuable , indeed vaguest idea wood river question .\n"
     ]
    }
   ],
   "source": [
    "import nltk\n",
    "from nltk.corpus import stopwords\n",
    "from nltk.tokenize import word_tokenize\n",
    "nltk.download('stopwords', quiet = True)\n",
    "set(stopwords.words('english'))\n",
    "\n",
    "\n",
    "# sample sentence\n",
    "text = \"\"\"At He determined to drop his litigation with the monastry, and relinguish his claims to the wood-cuting and \n",
    "fishery rihgts at once. He was the more ready to do this becuase the rights had become much less valuable, and he had \n",
    "indeed the vaguest idea where the wood and river in question were.\"\"\".lower()\n",
    "\n",
    "# set of stop words\n",
    "stop_words = set(stopwords.words('english')) \n",
    "\n",
    "# tokens of words  \n",
    "word_tokens = word_tokenize(text) \n",
    "    \n",
    "filtered_sentence = [] \n",
    "  \n",
    "for w in word_tokens: \n",
    "    if w not in stop_words: \n",
    "        filtered_sentence.append(w) \n",
    "\n",
    "\n",
    "\n",
    "print(\"\\n\\nOriginal Sentence \\n\\n\")\n",
    "print(\" \".join(word_tokens)) \n",
    "\n",
    "print(\"\\n\\nFiltered Sentence \\n\\n\")\n",
    "print(\" \".join(filtered_sentence))\n",
    "#word_tokens\n",
    "#type(stop_words)"
   ]
  },
  {
   "cell_type": "code",
   "execution_count": 55,
   "id": "impaired-junior",
   "metadata": {},
   "outputs": [
    {
     "name": "stdout",
     "output_type": "stream",
     "text": [
      "!\"#$%&'()*+,-./:;<=>?@[\\]^_`{|}~\n"
     ]
    }
   ],
   "source": [
    "import string\n",
    "print(string.punctuation)"
   ]
  },
  {
   "cell_type": "markdown",
   "id": "upper-storage",
   "metadata": {},
   "source": [
    "## Stemming from nltk.stem import PorterStemmer        # module for stemming\n"
   ]
  }
 ],
 "metadata": {
  "kernelspec": {
   "display_name": "Python 3",
   "language": "python",
   "name": "python3"
  },
  "language_info": {
   "codemirror_mode": {
    "name": "ipython",
    "version": 3
   },
   "file_extension": ".py",
   "mimetype": "text/x-python",
   "name": "python",
   "nbconvert_exporter": "python",
   "pygments_lexer": "ipython3",
   "version": "3.8.5"
  }
 },
 "nbformat": 4,
 "nbformat_minor": 5
}
